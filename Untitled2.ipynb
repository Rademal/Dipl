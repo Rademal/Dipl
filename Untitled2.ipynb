{
 "cells": [
  {
   "cell_type": "code",
   "execution_count": 1,
   "id": "68fe457f",
   "metadata": {},
   "outputs": [],
   "source": [
    "import keras\n",
    "from keras.layers import Conv2D, MaxPooling2D, Flatten, Dense"
   ]
  },
  {
   "cell_type": "code",
   "execution_count": 2,
   "id": "4513fa55",
   "metadata": {},
   "outputs": [],
   "source": [
    "#Определение архитектуры сверточной нейросети\n",
    "model = keras.Sequential()\n",
    "model.add(Conv2D(16, (3, 3), activation='relu', padding='same', input_shape=(200, 200, 1)))\n",
    "model.add(MaxPooling2D((2, 2)))\n",
    "model.add(Conv2D(32, (3, 3), activation='relu', padding='same'))\n",
    "model.add(MaxPooling2D((2, 2)))\n",
    "model.add(Conv2D(64, (3, 3), activation='relu', padding='same'))\n",
    "model.add(MaxPooling2D((2, 2)))\n",
    "model.add(Flatten())"
   ]
  },
  {
   "cell_type": "code",
   "execution_count": 3,
   "id": "26203992",
   "metadata": {},
   "outputs": [],
   "source": [
    "#Определение архитектуры полносвязной нейросети\n",
    "model.add(Dense(128, activation='relu'))\n",
    "model.add(Dense(1))"
   ]
  },
  {
   "cell_type": "code",
   "execution_count": 4,
   "id": "a44f1f2b",
   "metadata": {},
   "outputs": [],
   "source": [
    "#Компиляция модели с использованием функции потерь MSE и оптимизатора Adam\n",
    "model.compile(optimizer='adam', loss='mse')"
   ]
  },
  {
   "cell_type": "code",
   "execution_count": 5,
   "id": "7124b596",
   "metadata": {},
   "outputs": [],
   "source": [
    "import pandas as pd\n",
    "import numpy as np"
   ]
  },
  {
   "cell_type": "code",
   "execution_count": 6,
   "id": "991fab98",
   "metadata": {},
   "outputs": [],
   "source": [
    "#Чтение CSV-файлов\n",
    "ageCSV = pd.read_csv(\"age.csv\")\n",
    "picCSV = pd.read_csv(\"pic.csv\")"
   ]
  },
  {
   "cell_type": "code",
   "execution_count": 7,
   "id": "5bec8865",
   "metadata": {},
   "outputs": [],
   "source": [
    "#Создание пустого массива нужной размерности (9278 - количество файлов, 200, 200 - размер изображений)\n",
    "images_array = np.zeros((9728, 200, 200), dtype=np.uint8)"
   ]
  },
  {
   "cell_type": "code",
   "execution_count": 8,
   "id": "ecb80af5",
   "metadata": {},
   "outputs": [],
   "source": [
    "import cv2\n",
    "import csv"
   ]
  },
  {
   "cell_type": "code",
   "execution_count": 9,
   "id": "5b33ebe9",
   "metadata": {},
   "outputs": [],
   "source": [
    "#Читаем csv файл с путями файлов\n",
    "with open(\"pic.csv\", \"r\") as f:\n",
    "    reader = csv.reader(f)\n",
    "    file_names = [row[0] for row in reader]"
   ]
  },
  {
   "cell_type": "code",
   "execution_count": 10,
   "id": "3ed307cd",
   "metadata": {},
   "outputs": [],
   "source": [
    "#Загружаем изображения и добавляем их в массив\n",
    "for i, file_name in enumerate(file_names):\n",
    "    img = cv2.imread(file_name, cv2.IMREAD_GRAYSCALE)\n",
    "    images_array[i] = img"
   ]
  },
  {
   "cell_type": "code",
   "execution_count": 11,
   "id": "731ea319",
   "metadata": {},
   "outputs": [],
   "source": [
    "train_images = np.array(images_array)\n",
    "train_labels = np.array(ageCSV)"
   ]
  },
  {
   "cell_type": "code",
   "execution_count": 12,
   "id": "b4fee84f",
   "metadata": {},
   "outputs": [
    {
     "name": "stdout",
     "output_type": "stream",
     "text": [
      "Epoch 1/20\n",
      "304/304 [==============================] - 98s 318ms/step - loss: 1915.7473\n",
      "Epoch 2/20\n",
      "304/304 [==============================] - 99s 326ms/step - loss: 176.3958\n",
      "Epoch 3/20\n",
      "304/304 [==============================] - 98s 322ms/step - loss: 136.8619\n",
      "Epoch 4/20\n",
      "304/304 [==============================] - 98s 322ms/step - loss: 107.9410\n",
      "Epoch 5/20\n",
      "304/304 [==============================] - 99s 325ms/step - loss: 93.6176\n",
      "Epoch 6/20\n",
      "304/304 [==============================] - 99s 324ms/step - loss: 79.2175\n",
      "Epoch 7/20\n",
      "304/304 [==============================] - 100s 328ms/step - loss: 64.6781\n",
      "Epoch 8/20\n",
      "304/304 [==============================] - 101s 331ms/step - loss: 56.7669\n",
      "Epoch 9/20\n",
      "304/304 [==============================] - 101s 332ms/step - loss: 49.8391\n",
      "Epoch 10/20\n",
      "304/304 [==============================] - 100s 330ms/step - loss: 43.6189\n",
      "Epoch 11/20\n",
      "304/304 [==============================] - 101s 333ms/step - loss: 37.6077\n",
      "Epoch 12/20\n",
      "304/304 [==============================] - 101s 331ms/step - loss: 36.4260\n",
      "Epoch 13/20\n",
      "304/304 [==============================] - 100s 330ms/step - loss: 31.8466\n",
      "Epoch 14/20\n",
      "304/304 [==============================] - 98s 321ms/step - loss: 29.2780\n",
      "Epoch 15/20\n",
      "304/304 [==============================] - 97s 320ms/step - loss: 26.9718\n",
      "Epoch 16/20\n",
      "304/304 [==============================] - 98s 321ms/step - loss: 23.2402\n",
      "Epoch 17/20\n",
      "304/304 [==============================] - 98s 322ms/step - loss: 20.7513\n",
      "Epoch 18/20\n",
      "304/304 [==============================] - 98s 322ms/step - loss: 22.9389\n",
      "Epoch 19/20\n",
      "304/304 [==============================] - 116s 382ms/step - loss: 20.9055\n",
      "Epoch 20/20\n",
      "304/304 [==============================] - 143s 471ms/step - loss: 18.5417\n"
     ]
    },
    {
     "data": {
      "text/plain": [
       "<keras.callbacks.History at 0x1c42acaf520>"
      ]
     },
     "execution_count": 12,
     "metadata": {},
     "output_type": "execute_result"
    }
   ],
   "source": [
    "model.fit(train_images, train_labels, epochs=20, batch_size=32) #обучение модели"
   ]
  },
  {
   "cell_type": "code",
   "execution_count": null,
   "id": "5a297411",
   "metadata": {},
   "outputs": [],
   "source": [
    "image = load_image(\"path/to/image.jpg\") #загрузка изображения\n",
    "age_prediction = model.predict(image) #предсказание возраста"
   ]
  },
  {
   "cell_type": "code",
   "execution_count": null,
   "id": "c67ae479",
   "metadata": {},
   "outputs": [],
   "source": []
  },
  {
   "cell_type": "code",
   "execution_count": null,
   "id": "a25d978c",
   "metadata": {},
   "outputs": [],
   "source": []
  },
  {
   "cell_type": "code",
   "execution_count": null,
   "id": "a332ab8d",
   "metadata": {},
   "outputs": [],
   "source": []
  }
 ],
 "metadata": {
  "kernelspec": {
   "display_name": "Python 3 (ipykernel)",
   "language": "python",
   "name": "python3"
  },
  "language_info": {
   "codemirror_mode": {
    "name": "ipython",
    "version": 3
   },
   "file_extension": ".py",
   "mimetype": "text/x-python",
   "name": "python",
   "nbconvert_exporter": "python",
   "pygments_lexer": "ipython3",
   "version": "3.10.9"
  }
 },
 "nbformat": 4,
 "nbformat_minor": 5
}
